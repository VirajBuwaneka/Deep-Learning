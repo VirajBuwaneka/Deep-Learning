{
 "cells": [
  {
   "cell_type": "code",
   "execution_count": 5,
   "metadata": {},
   "outputs": [],
   "source": [
    "import numpy as np\n",
    "import pandas as pd"
   ]
  },
  {
   "cell_type": "code",
   "execution_count": 4,
   "metadata": {},
   "outputs": [
    {
     "data": {
      "text/html": [
       "<div>\n",
       "<style scoped>\n",
       "    .dataframe tbody tr th:only-of-type {\n",
       "        vertical-align: middle;\n",
       "    }\n",
       "\n",
       "    .dataframe tbody tr th {\n",
       "        vertical-align: top;\n",
       "    }\n",
       "\n",
       "    .dataframe thead th {\n",
       "        text-align: right;\n",
       "    }\n",
       "</style>\n",
       "<table border=\"1\" class=\"dataframe\">\n",
       "  <thead>\n",
       "    <tr style=\"text-align: right;\">\n",
       "      <th></th>\n",
       "      <th>employee_id</th>\n",
       "      <th>performance</th>\n",
       "      <th>years_of_experience</th>\n",
       "      <th>projects_completed</th>\n",
       "      <th>bonus</th>\n",
       "    </tr>\n",
       "  </thead>\n",
       "  <tbody>\n",
       "    <tr>\n",
       "      <th>0</th>\n",
       "      <td>EMP_001</td>\n",
       "      <td>7</td>\n",
       "      <td>1</td>\n",
       "      <td>3</td>\n",
       "      <td>116</td>\n",
       "    </tr>\n",
       "    <tr>\n",
       "      <th>1</th>\n",
       "      <td>EMP_002</td>\n",
       "      <td>4</td>\n",
       "      <td>8</td>\n",
       "      <td>10</td>\n",
       "      <td>136</td>\n",
       "    </tr>\n",
       "    <tr>\n",
       "      <th>2</th>\n",
       "      <td>EMP_003</td>\n",
       "      <td>8</td>\n",
       "      <td>4</td>\n",
       "      <td>5</td>\n",
       "      <td>150</td>\n",
       "    </tr>\n",
       "    <tr>\n",
       "      <th>3</th>\n",
       "      <td>EMP_004</td>\n",
       "      <td>5</td>\n",
       "      <td>4</td>\n",
       "      <td>7</td>\n",
       "      <td>118</td>\n",
       "    </tr>\n",
       "    <tr>\n",
       "      <th>4</th>\n",
       "      <td>EMP_005</td>\n",
       "      <td>7</td>\n",
       "      <td>5</td>\n",
       "      <td>6</td>\n",
       "      <td>146</td>\n",
       "    </tr>\n",
       "  </tbody>\n",
       "</table>\n",
       "</div>"
      ],
      "text/plain": [
       "  employee_id  performance  years_of_experience  projects_completed  bonus\n",
       "0     EMP_001            7                    1                   3    116\n",
       "1     EMP_002            4                    8                  10    136\n",
       "2     EMP_003            8                    4                   5    150\n",
       "3     EMP_004            5                    4                   7    118\n",
       "4     EMP_005            7                    5                   6    146"
      ]
     },
     "execution_count": 4,
     "metadata": {},
     "output_type": "execute_result"
    }
   ],
   "source": [
    "df=pd.read_csv('bonus.csv')\n",
    "df.head()"
   ]
  },
  {
   "cell_type": "code",
   "execution_count": 7,
   "metadata": {},
   "outputs": [
    {
     "data": {
      "text/plain": [
       "(1000, 5)"
      ]
     },
     "execution_count": 7,
     "metadata": {},
     "output_type": "execute_result"
    }
   ],
   "source": [
    "df.shape"
   ]
  },
  {
   "cell_type": "code",
   "execution_count": 9,
   "metadata": {},
   "outputs": [],
   "source": [
    "import torch\n",
    "import torch.nn as nn\n",
    "import torch.optim as optim"
   ]
  },
  {
   "cell_type": "code",
   "execution_count": 10,
   "metadata": {},
   "outputs": [],
   "source": [
    "from sklearn.model_selection import train_test_split\n",
    "\n",
    "X=df[['performance','years_of_experience','projects_completed']].values\n",
    "y=df[['bonus']].values"
   ]
  },
  {
   "cell_type": "code",
   "execution_count": 12,
   "metadata": {},
   "outputs": [],
   "source": [
    "X_train,X_test,y_train,y_test=train_test_split(X,y,test_size=0.2,random_state=0)"
   ]
  },
  {
   "cell_type": "code",
   "execution_count": 14,
   "metadata": {},
   "outputs": [
    {
     "data": {
      "text/plain": [
       "((800, 3), (200, 3))"
      ]
     },
     "execution_count": 14,
     "metadata": {},
     "output_type": "execute_result"
    }
   ],
   "source": [
    "X_train.shape,X_test.shape"
   ]
  },
  {
   "cell_type": "code",
   "execution_count": 16,
   "metadata": {},
   "outputs": [],
   "source": [
    "#converting to tensors\n",
    "X_train_tensor=torch.tensor(X_train,dtype=torch.float32)\n",
    "X_test_tensor=torch.tensor(X_test,dtype=torch.float32)\n",
    "y_train_tensor=torch.tensor(y_train,dtype=torch.float32)\n",
    "y_test_tensor=torch.tensor(y_test,dtype=torch.float32)"
   ]
  },
  {
   "cell_type": "code",
   "execution_count": 18,
   "metadata": {},
   "outputs": [],
   "source": [
    "#Defining the Neural Network class\n",
    "\n",
    "class BonusPredictor(nn.Module):\n",
    "    def __init__(self):\n",
    "        super().__init__()\n",
    "        self.network=nn.Sequential(\n",
    "            nn.Linear(3,1) #3 input features and output neurone\n",
    "        )\n",
    "    def forward(self,x):\n",
    "        return self.network(x)"
   ]
  },
  {
   "cell_type": "code",
   "execution_count": 19,
   "metadata": {},
   "outputs": [],
   "source": [
    "model=BonusPredictor()\n",
    "criterion=nn.MSELoss()\n",
    "optimizer=optim.SGD(model.parameters(),lr=0.001)"
   ]
  },
  {
   "cell_type": "code",
   "execution_count": 22,
   "metadata": {},
   "outputs": [
    {
     "name": "stdout",
     "output_type": "stream",
     "text": [
      " Epoch [100/5000] ==> Loss : 1.81\n",
      " Epoch [200/5000] ==> Loss : 1.76\n",
      " Epoch [300/5000] ==> Loss : 1.72\n",
      " Epoch [400/5000] ==> Loss : 1.67\n",
      " Epoch [500/5000] ==> Loss : 1.63\n",
      " Epoch [600/5000] ==> Loss : 1.59\n",
      " Epoch [700/5000] ==> Loss : 1.55\n",
      " Epoch [800/5000] ==> Loss : 1.51\n",
      " Epoch [900/5000] ==> Loss : 1.47\n",
      " Epoch [1000/5000] ==> Loss : 1.44\n",
      " Epoch [1100/5000] ==> Loss : 1.40\n",
      " Epoch [1200/5000] ==> Loss : 1.37\n",
      " Epoch [1300/5000] ==> Loss : 1.33\n",
      " Epoch [1400/5000] ==> Loss : 1.30\n",
      " Epoch [1500/5000] ==> Loss : 1.26\n",
      " Epoch [1600/5000] ==> Loss : 1.23\n",
      " Epoch [1700/5000] ==> Loss : 1.20\n",
      " Epoch [1800/5000] ==> Loss : 1.17\n",
      " Epoch [1900/5000] ==> Loss : 1.14\n",
      " Epoch [2000/5000] ==> Loss : 1.11\n",
      " Epoch [2100/5000] ==> Loss : 1.08\n",
      " Epoch [2200/5000] ==> Loss : 1.06\n",
      " Epoch [2300/5000] ==> Loss : 1.03\n",
      " Epoch [2400/5000] ==> Loss : 1.00\n",
      " Epoch [2500/5000] ==> Loss : 0.98\n",
      " Epoch [2600/5000] ==> Loss : 0.95\n",
      " Epoch [2700/5000] ==> Loss : 0.93\n",
      " Epoch [2800/5000] ==> Loss : 0.91\n",
      " Epoch [2900/5000] ==> Loss : 0.88\n",
      " Epoch [3000/5000] ==> Loss : 0.86\n",
      " Epoch [3100/5000] ==> Loss : 0.84\n",
      " Epoch [3200/5000] ==> Loss : 0.82\n",
      " Epoch [3300/5000] ==> Loss : 0.80\n",
      " Epoch [3400/5000] ==> Loss : 0.78\n",
      " Epoch [3500/5000] ==> Loss : 0.76\n",
      " Epoch [3600/5000] ==> Loss : 0.74\n",
      " Epoch [3700/5000] ==> Loss : 0.72\n",
      " Epoch [3800/5000] ==> Loss : 0.70\n",
      " Epoch [3900/5000] ==> Loss : 0.69\n",
      " Epoch [4000/5000] ==> Loss : 0.67\n",
      " Epoch [4100/5000] ==> Loss : 0.65\n",
      " Epoch [4200/5000] ==> Loss : 0.63\n",
      " Epoch [4300/5000] ==> Loss : 0.62\n",
      " Epoch [4400/5000] ==> Loss : 0.60\n",
      " Epoch [4500/5000] ==> Loss : 0.59\n",
      " Epoch [4600/5000] ==> Loss : 0.57\n",
      " Epoch [4700/5000] ==> Loss : 0.56\n",
      " Epoch [4800/5000] ==> Loss : 0.54\n",
      " Epoch [4900/5000] ==> Loss : 0.53\n",
      " Epoch [5000/5000] ==> Loss : 0.52\n"
     ]
    }
   ],
   "source": [
    "epochs = 5000\n",
    "\n",
    "for epoch in range(epochs):\n",
    "    #forward pass\n",
    "    predictions=model(X_test_tensor)\n",
    "    loss=criterion(predictions,y_test_tensor)\n",
    "    #backward pass\n",
    "    optimizer.zero_grad()\n",
    "    loss.backward()\n",
    "    #update weights\n",
    "    optimizer.step()\n",
    "\n",
    "    if(epoch+1)%100 == 0 :\n",
    "        print(f' Epoch [{epoch +1}/{epochs}] ==> Loss : {loss.item():.2f}')"
   ]
  },
  {
   "cell_type": "code",
   "execution_count": 24,
   "metadata": {},
   "outputs": [
    {
     "name": "stdout",
     "output_type": "stream",
     "text": [
      "test loss : 0.52\n"
     ]
    }
   ],
   "source": [
    "#evaluating the model\n",
    "\n",
    "model.eval()\n",
    "\n",
    "with torch.no_grad():\n",
    "    test_predictions=model(X_test_tensor)\n",
    "    test_loss=criterion(test_predictions,y_test_tensor)\n",
    "\n",
    "print(f'test loss : {test_loss.item():0.2f}')"
   ]
  },
  {
   "cell_type": "code",
   "execution_count": 26,
   "metadata": {},
   "outputs": [
    {
     "data": {
      "text/plain": [
       "tensor([[ 8.,  9., 10.],\n",
       "        [ 9.,  2.,  5.],\n",
       "        [ 3.,  7.,  8.]])"
      ]
     },
     "execution_count": 26,
     "metadata": {},
     "output_type": "execute_result"
    }
   ],
   "source": [
    "X_test_tensor[:3]"
   ]
  },
  {
   "cell_type": "code",
   "execution_count": 28,
   "metadata": {},
   "outputs": [
    {
     "data": {
      "text/plain": [
       "tensor([[190.],\n",
       "        [150.],\n",
       "        [114.]])"
      ]
     },
     "execution_count": 28,
     "metadata": {},
     "output_type": "execute_result"
    }
   ],
   "source": [
    "y_test_tensor[:3]"
   ]
  },
  {
   "cell_type": "code",
   "execution_count": 30,
   "metadata": {},
   "outputs": [
    {
     "data": {
      "text/plain": [
       "tensor([[189.9047],\n",
       "        [150.5289],\n",
       "        [113.0792]])"
      ]
     },
     "execution_count": 30,
     "metadata": {},
     "output_type": "execute_result"
    }
   ],
   "source": [
    "test_predictions[:3]"
   ]
  },
  {
   "cell_type": "code",
   "execution_count": 32,
   "metadata": {},
   "outputs": [
    {
     "name": "stdout",
     "output_type": "stream",
     "text": [
      "Name :network.0.weight, Values : Parameter containing:\n",
      "tensor([[12.1200,  5.4658,  2.6470]], requires_grad=True)\n",
      "Name :network.0.bias, Values : Parameter containing:\n",
      "tensor([17.2826], requires_grad=True)\n"
     ]
    }
   ],
   "source": [
    "#to get the weights of the model\n",
    "\n",
    "for name,value in model.named_parameters():\n",
    "    print(f'Name :{name}, Values : {value}')"
   ]
  },
  {
   "cell_type": "code",
   "execution_count": null,
   "metadata": {},
   "outputs": [],
   "source": []
  }
 ],
 "metadata": {
  "kernelspec": {
   "display_name": "Python 3",
   "language": "python",
   "name": "python3"
  },
  "language_info": {
   "codemirror_mode": {
    "name": "ipython",
    "version": 3
   },
   "file_extension": ".py",
   "mimetype": "text/x-python",
   "name": "python",
   "nbconvert_exporter": "python",
   "pygments_lexer": "ipython3",
   "version": "3.10.11"
  }
 },
 "nbformat": 4,
 "nbformat_minor": 2
}
