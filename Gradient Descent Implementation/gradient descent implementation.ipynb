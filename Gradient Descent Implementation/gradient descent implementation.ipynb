{
 "cells": [
  {
   "cell_type": "code",
   "execution_count": 1,
   "metadata": {},
   "outputs": [
    {
     "data": {
      "text/html": [
       "<div>\n",
       "<style scoped>\n",
       "    .dataframe tbody tr th:only-of-type {\n",
       "        vertical-align: middle;\n",
       "    }\n",
       "\n",
       "    .dataframe tbody tr th {\n",
       "        vertical-align: top;\n",
       "    }\n",
       "\n",
       "    .dataframe thead th {\n",
       "        text-align: right;\n",
       "    }\n",
       "</style>\n",
       "<table border=\"1\" class=\"dataframe\">\n",
       "  <thead>\n",
       "    <tr style=\"text-align: right;\">\n",
       "      <th></th>\n",
       "      <th>employee_id</th>\n",
       "      <th>performance</th>\n",
       "      <th>years_of_experience</th>\n",
       "      <th>projects_completed</th>\n",
       "      <th>bonus</th>\n",
       "    </tr>\n",
       "  </thead>\n",
       "  <tbody>\n",
       "    <tr>\n",
       "      <th>0</th>\n",
       "      <td>EMP_001</td>\n",
       "      <td>7</td>\n",
       "      <td>2</td>\n",
       "      <td>4</td>\n",
       "      <td>124</td>\n",
       "    </tr>\n",
       "    <tr>\n",
       "      <th>1</th>\n",
       "      <td>EMP_002</td>\n",
       "      <td>4</td>\n",
       "      <td>1</td>\n",
       "      <td>4</td>\n",
       "      <td>82</td>\n",
       "    </tr>\n",
       "    <tr>\n",
       "      <th>2</th>\n",
       "      <td>EMP_003</td>\n",
       "      <td>8</td>\n",
       "      <td>7</td>\n",
       "      <td>10</td>\n",
       "      <td>178</td>\n",
       "    </tr>\n",
       "    <tr>\n",
       "      <th>3</th>\n",
       "      <td>EMP_004</td>\n",
       "      <td>5</td>\n",
       "      <td>7</td>\n",
       "      <td>8</td>\n",
       "      <td>138</td>\n",
       "    </tr>\n",
       "    <tr>\n",
       "      <th>4</th>\n",
       "      <td>EMP_005</td>\n",
       "      <td>7</td>\n",
       "      <td>8</td>\n",
       "      <td>9</td>\n",
       "      <td>170</td>\n",
       "    </tr>\n",
       "  </tbody>\n",
       "</table>\n",
       "</div>"
      ],
      "text/plain": [
       "  employee_id  performance  years_of_experience  projects_completed  bonus\n",
       "0     EMP_001            7                    2                   4    124\n",
       "1     EMP_002            4                    1                   4     82\n",
       "2     EMP_003            8                    7                  10    178\n",
       "3     EMP_004            5                    7                   8    138\n",
       "4     EMP_005            7                    8                   9    170"
      ]
     },
     "execution_count": 1,
     "metadata": {},
     "output_type": "execute_result"
    }
   ],
   "source": [
    "import torch\n",
    "import pandas as pd\n",
    "import matplotlib.pyplot as plt\n",
    "\n",
    "df=pd.read_csv('bonus_dataset.csv')\n",
    "df.head()"
   ]
  },
  {
   "cell_type": "code",
   "execution_count": 3,
   "metadata": {},
   "outputs": [
    {
     "data": {
      "text/plain": [
       "(100, 5)"
      ]
     },
     "execution_count": 3,
     "metadata": {},
     "output_type": "execute_result"
    }
   ],
   "source": [
    "df.shape"
   ]
  },
  {
   "cell_type": "code",
   "execution_count": 4,
   "metadata": {},
   "outputs": [],
   "source": [
    "performance=torch.tensor(df['performance'].values,dtype=torch.float32)\n",
    "years_of_experience=torch.tensor(df['years_of_experience'].values,dtype=torch.float32)\n",
    "bonus=torch.tensor(df['bonus'].values,dtype=torch.float32)  \n",
    "projects_completed=torch.tensor(df['projects_completed'].values,dtype=torch.float32)"
   ]
  },
  {
   "cell_type": "code",
   "execution_count": 15,
   "metadata": {},
   "outputs": [
    {
     "name": "stdout",
     "output_type": "stream",
     "text": [
      "Epoch 1/5000, Loss: 18925.5898\n",
      "Epoch 101/5000, Loss: 18.8737\n",
      "Epoch 201/5000, Loss: 16.8421\n",
      "Epoch 301/5000, Loss: 15.0334\n",
      "Epoch 401/5000, Loss: 13.4205\n",
      "Epoch 501/5000, Loss: 11.9811\n",
      "Epoch 601/5000, Loss: 10.6963\n",
      "Epoch 701/5000, Loss: 9.5493\n",
      "Epoch 801/5000, Loss: 8.5254\n",
      "Epoch 901/5000, Loss: 7.6113\n",
      "Epoch 1001/5000, Loss: 6.7951\n",
      "Epoch 1101/5000, Loss: 6.0665\n",
      "Epoch 1201/5000, Loss: 5.4161\n",
      "Epoch 1301/5000, Loss: 4.8353\n",
      "Epoch 1401/5000, Loss: 4.3169\n",
      "Epoch 1501/5000, Loss: 3.8540\n",
      "Epoch 1601/5000, Loss: 3.4407\n",
      "Epoch 1701/5000, Loss: 3.0718\n",
      "Epoch 1801/5000, Loss: 2.7424\n",
      "Epoch 1901/5000, Loss: 2.4484\n",
      "Epoch 2001/5000, Loss: 2.1858\n",
      "Epoch 2101/5000, Loss: 1.9515\n",
      "Epoch 2201/5000, Loss: 1.7422\n",
      "Epoch 2301/5000, Loss: 1.5554\n",
      "Epoch 2401/5000, Loss: 1.3886\n",
      "Epoch 2501/5000, Loss: 1.2397\n",
      "Epoch 2601/5000, Loss: 1.1068\n",
      "Epoch 2701/5000, Loss: 0.9881\n",
      "Epoch 2801/5000, Loss: 0.8822\n",
      "Epoch 2901/5000, Loss: 0.7876\n",
      "Epoch 3001/5000, Loss: 0.7031\n",
      "Epoch 3101/5000, Loss: 0.6277\n",
      "Epoch 3201/5000, Loss: 0.5604\n",
      "Epoch 3301/5000, Loss: 0.5003\n",
      "Epoch 3401/5000, Loss: 0.4467\n",
      "Epoch 3501/5000, Loss: 0.3988\n",
      "Epoch 3601/5000, Loss: 0.3560\n",
      "Epoch 3701/5000, Loss: 0.3179\n",
      "Epoch 3801/5000, Loss: 0.2838\n",
      "Epoch 3901/5000, Loss: 0.2534\n",
      "Epoch 4001/5000, Loss: 0.2262\n",
      "Epoch 4101/5000, Loss: 0.2019\n",
      "Epoch 4201/5000, Loss: 0.1803\n",
      "Epoch 4301/5000, Loss: 0.1609\n",
      "Epoch 4401/5000, Loss: 0.1437\n",
      "Epoch 4501/5000, Loss: 0.1283\n",
      "Epoch 4601/5000, Loss: 0.1145\n",
      "Epoch 4701/5000, Loss: 0.1022\n",
      "Epoch 4801/5000, Loss: 0.0913\n",
      "Epoch 4901/5000, Loss: 0.0815\n"
     ]
    }
   ],
   "source": [
    "w1=torch.rand(1,requires_grad=True)    \n",
    "w2=torch.randn(1,requires_grad=True)\n",
    "w3=torch.rand(1,requires_grad=True) \n",
    "bias=torch.rand(1,requires_grad=True)   \n",
    "\n",
    "epochs =5000\n",
    "learning_rate = 0.005\n",
    "\n",
    "for epoch in range(epochs):\n",
    "    predicted_bonus = w1 * performance + w2 * years_of_experience + w3 * projects_completed + bias\n",
    "    loss=((predicted_bonus-bonus)**2).mean()\n",
    "    loss.backward()\n",
    "\n",
    "    with torch.no_grad():\n",
    "        # Update weights\n",
    "        w1.data -= learning_rate * w1.grad\n",
    "        w2.data -= learning_rate * w2.grad\n",
    "        w3.data -= learning_rate * w3.grad\n",
    "        bias.data -= learning_rate * bias.grad\n",
    "\n",
    "        # Zero gradients after updating weights\n",
    "    w1.grad.zero_()\n",
    "    w2.grad.zero_()\n",
    "    w3.grad.zero_()\n",
    "    bias.grad.zero_()\n",
    "    \n",
    "    if epoch % 100 == 0:\n",
    "        print(f'Epoch {epoch+1}/{epochs}, Loss: {loss.item():.4f}')\n",
    "\n"
   ]
  },
  {
   "cell_type": "code",
   "execution_count": 16,
   "metadata": {},
   "outputs": [
    {
     "data": {
      "text/plain": [
       "(12.049064636230469, 5.831676959991455, 2.2245543003082275, 18.90355110168457)"
      ]
     },
     "execution_count": 16,
     "metadata": {},
     "output_type": "execute_result"
    }
   ],
   "source": [
    "w1.item(), w2.item(), w3.item(), bias.item()"
   ]
  },
  {
   "cell_type": "code",
   "execution_count": 18,
   "metadata": {},
   "outputs": [
    {
     "data": {
      "text/plain": [
       "tensor([123.8086,  81.8297, 178.3634, 137.7670, 169.9214, 186.3490,  83.6685,\n",
       "        169.9214, 170.3071, 109.9912,  81.8297, 143.9139, 162.2509,  85.8931,\n",
       "        105.9278, 126.1037, 125.7885, 173.9142, 154.2652, 119.9569, 161.9357,\n",
       "        118.1886, 165.7874, 149.8161, 139.8505,  69.8512, 178.2928,  99.7810,\n",
       "        164.0897, 130.1671, 166.2437, 115.8935, 105.5421, 105.6127, 123.8086,\n",
       "        161.9357, 204.3003, 145.7527,  93.5636, 105.9984, 214.5811, 101.6199,\n",
       "        214.1248, 190.4124, 154.1241,  93.8788, 119.9569, 141.8304, 142.1456,\n",
       "        190.0267,  83.6685,  91.7953, 122.1109, 111.9006, 190.0267, 114.0546,\n",
       "         53.2825, 117.5912, 176.2094, 208.2932, 119.8863, 160.0969, 119.9569,\n",
       "        178.2928,  53.2825, 149.6750, 149.8867, 149.7455, 164.0897, 145.6821,\n",
       "        146.1384,  93.8788,  85.5074,  89.4297, 186.4196, 154.1241, 139.8505,\n",
       "        150.1313,  51.5142, 180.1316, 164.0897, 172.0754, 127.8014,  41.2334,\n",
       "        146.1384, 135.8576, 102.0056, 118.1886, 168.0826, 113.6689,  91.7248,\n",
       "         89.5708, 150.2724, 149.6750, 153.8089, 206.0686, 174.2999, 142.1456,\n",
       "        145.6821, 165.8580], grad_fn=<AddBackward0>)"
      ]
     },
     "execution_count": 18,
     "metadata": {},
     "output_type": "execute_result"
    }
   ],
   "source": [
    "predicted_bonus = w1 * performance + w2 * years_of_experience + w3 * projects_completed + bias\n",
    "predicted_bonus"
   ]
  }
 ],
 "metadata": {
  "kernelspec": {
   "display_name": "Python 3",
   "language": "python",
   "name": "python3"
  },
  "language_info": {
   "codemirror_mode": {
    "name": "ipython",
    "version": 3
   },
   "file_extension": ".py",
   "mimetype": "text/x-python",
   "name": "python",
   "nbconvert_exporter": "python",
   "pygments_lexer": "ipython3",
   "version": "3.10.11"
  }
 },
 "nbformat": 4,
 "nbformat_minor": 2
}
